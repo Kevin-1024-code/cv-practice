{
 "cells": [
  {
   "cell_type": "markdown",
   "id": "f5025148",
   "metadata": {},
   "source": [
    "# 导入必要的库"
   ]
  },
  {
   "cell_type": "code",
   "execution_count": 1,
   "id": "1e494fd8",
   "metadata": {},
   "outputs": [],
   "source": [
    "# 导入必要的库\n",
    "import cv2\n",
    "import numpy as np\n",
    "from matplotlib import pyplot as plt\n",
    "import time\n"
   ]
  },
  {
   "cell_type": "markdown",
   "id": "bc649ec9",
   "metadata": {},
   "source": [
    "# 定义展示图片的函数"
   ]
  },
  {
   "cell_type": "code",
   "execution_count": 2,
   "id": "790afc24",
   "metadata": {},
   "outputs": [],
   "source": [
    "# 定义一个函数用于展示图片\n",
    "def show(name,img):\n",
    "    cv2.imshow(name, img)\n",
    "    cv2.waitKey(0)\n",
    "    cv2.destroyAllWindows()\n"
   ]
  },
  {
   "cell_type": "markdown",
   "id": "af4a4c88",
   "metadata": {},
   "source": [
    "# 定义图像拼接函数"
   ]
  },
  {
   "cell_type": "code",
   "execution_count": 3,
   "id": "2295345c",
   "metadata": {},
   "outputs": [],
   "source": [
    "# 定义图像拼接函数\n",
    "def stitch_images(image_list):\n",
    "    MIN = 10\n",
    "    FLANN_INDEX_KDTREE = 0\n",
    "    starttime = time.time()\n",
    "    # 初始化SIFT检测器\n",
    "    sift = cv2.SIFT_create() \n",
    "    #创建字典\n",
    "    indexParams = dict(algorithm = FLANN_INDEX_KDTREE, trees = 5)\n",
    "    searchParams = dict(checks=50)\n",
    "    flann = cv2.FlannBasedMatcher(indexParams,searchParams)\n",
    "\n",
    "    imageA = cv2.resize(image_list[0],(0,0),fx=0.3,fy=0.3)\n",
    "    for index in range(1, len(image_list)):\n",
    "        imageB = cv2.resize(image_list[index],(0,0),fx=0.3,fy=0.3)\n",
    "        kp1,descrip1 = sift.detectAndCompute(imageA,None)\n",
    "        kp2,descrip2 = sift.detectAndCompute(imageB,None)\n",
    "        match = flann.knnMatch(descrip1,descrip2,k=2)\n",
    "        good = []\n",
    "        #过滤特征点\n",
    "        for i,(m,n) in enumerate(match):\n",
    "            if(m.distance < 0.75*n.distance):\n",
    "                good.append(m)\n",
    "        # 当筛选后的匹配对大于10时，计算视角变换矩阵\n",
    "        if len(good) > MIN:\n",
    "            src_pts = np.float32([kp1[m.queryIdx].pt for m in good]).reshape(-1,1,2)\n",
    "            ano_pts = np.float32([kp2[m.trainIdx].pt for m in good]).reshape(-1,1,2)\n",
    "            M,mask = cv2.findHomography(src_pts,ano_pts,cv2.RANSAC,5.0)\n",
    "            warpImg = cv2.warpPerspective(imageB, np.linalg.inv(M), (imageA.shape[1]+imageB.shape[1], imageB.shape[0]))\n",
    "\n",
    "            direct = warpImg.copy()\n",
    "            direct[0:imageA.shape[0], 0:imageA.shape[1]] = imageA\n",
    "            simple = time.time()\n",
    "\n",
    "            rows,cols = imageA.shape[:2]\n",
    "            for col in range(0,cols):\n",
    "                # 开始重叠的最左端\n",
    "                if imageA[:, col].any() and warpImg[:, col].any():\n",
    "                    left = col\n",
    "                    break\n",
    "            for col in range(cols-1, 0, -1):\n",
    "                #重叠的最右一列\n",
    "                if imageA[:, col].any() and warpImg[:, col].any():\n",
    "                    right = col\n",
    "                    break\n",
    "            #加权处理\n",
    "            res = np.zeros([rows, cols, 3], np.uint8)\n",
    "            for row in range(0, rows):\n",
    "                for col in range(0, cols):\n",
    "                    if not imageA[row, col].any():\n",
    "                        res[row, col] = warpImg[row, col]\n",
    "                    elif not warpImg[row, col].any():\n",
    "                        res[row, col] = imageA[row, col]\n",
    "                    else:\n",
    "                        srcImgLen = float(abs(col - left))\n",
    "                        testImgLen = float(abs(col - right))\n",
    "                        alpha = srcImgLen / (srcImgLen + testImgLen)\n",
    "                        res[row, col] = np.clip(imageA[row, col] * (1 - alpha) + warpImg[row, col] * alpha, 0, 255)\n",
    "\n",
    "            warpImg[0:imageA.shape[0], 0:imageA.shape[1]] = res\n",
    "            imageA = warpImg.copy()\n",
    "\n",
    "    show('res',warpImg)\n",
    "    final = time.time()\n",
    "    print(final-starttime)\n"
   ]
  },
  {
   "cell_type": "markdown",
   "id": "6a5f500d",
   "metadata": {},
   "source": [
    "# 图像的导入和拼接"
   ]
  },
  {
   "cell_type": "code",
   "execution_count": 4,
   "id": "b69532ef",
   "metadata": {},
   "outputs": [
    {
     "name": "stdout",
     "output_type": "stream",
     "text": [
      "11.51158618927002\n"
     ]
    }
   ],
   "source": [
    "# 导入图片\n",
    "img1 = cv2.imread('1.jpg')\n",
    "img2 = cv2.imread('2.jpg')\n",
    "img3 = cv2.imread('3.jpg')\n",
    "\n",
    "# 将输入图片组成列表\n",
    "image_list = [img1, img2, img3]\n",
    "\n",
    "# 调用图像拼接函数\n",
    "stitch_images(image_list)\n"
   ]
  }
 ],
 "metadata": {
  "kernelspec": {
   "display_name": "DL",
   "language": "python",
   "name": "dl"
  },
  "language_info": {
   "codemirror_mode": {
    "name": "ipython",
    "version": 3
   },
   "file_extension": ".py",
   "mimetype": "text/x-python",
   "name": "python",
   "nbconvert_exporter": "python",
   "pygments_lexer": "ipython3",
   "version": "3.9.18"
  }
 },
 "nbformat": 4,
 "nbformat_minor": 5
}
